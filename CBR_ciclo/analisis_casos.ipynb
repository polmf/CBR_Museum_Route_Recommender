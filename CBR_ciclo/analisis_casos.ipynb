{
 "cells": [
  {
   "cell_type": "markdown",
   "metadata": {},
   "source": [
    "# Analisis base de casos"
   ]
  },
  {
   "cell_type": "markdown",
   "metadata": {},
   "source": [
    "Con este analisis vemos la forma que tiene nuestra base de casos. Realizamos clustering de nuestros casos y vemos cuales se parecen más.\n",
    "Además, realizamos estudio de usuarios presentes en nuestra base de casos. Analisis Univariante, y Bivariante con la ruta asignada para cada uno."
   ]
  }
 ],
 "metadata": {
  "language_info": {
   "name": "python"
  }
 },
 "nbformat": 4,
 "nbformat_minor": 2
}
